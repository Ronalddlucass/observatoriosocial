{
 "cells": [
  {
   "cell_type": "markdown",
   "id": "4ace2946",
   "metadata": {},
   "source": [
    "<center><img width=\"70%\" src=\"https://www.vivacidadania.org.br/wp-content/uploads/2019/02/observat%C3%B3rio-social-1200x675.jpg\"></center>"
   ]
  },
  {
   "cell_type": "markdown",
   "id": "4df20944",
   "metadata": {},
   "source": [
    "# Capturando os dados do site"
   ]
  },
  {
   "cell_type": "markdown",
   "id": "6a4d8bb6",
   "metadata": {},
   "source": [
    "Importando todas as bibliotecas que serão utilizadas"
   ]
  },
  {
   "cell_type": "code",
   "execution_count": null,
   "id": "13b1e9a7",
   "metadata": {},
   "outputs": [],
   "source": [
    "import time\n",
    "import pandas as pd\n",
    "import bs4\n",
    "import pyodbc\n",
    "import warnings\n",
    "\n",
    "from urllib.error import URLError, HTTPError\n",
    "from urllib.request import Request, urlopen"
   ]
  },
  {
   "cell_type": "markdown",
   "id": "181dc36c",
   "metadata": {},
   "source": [
    "---"
   ]
  },
  {
   "cell_type": "code",
   "execution_count": null,
   "id": "bf7b3d16",
   "metadata": {},
   "outputs": [],
   "source": [
    "agente = 'Mozilla/5.0 (Windows NT 10.0; Win64; x64) AppleWebKit/537.36 (KHTML, like Gecko) Chrome/110.0.0.0 Safari/537.36 Edg/110.0.1587.63'\n",
    "headers = {'User-Agent': agente}"
   ]
  },
  {
   "cell_type": "markdown",
   "id": "c0f44cc3",
   "metadata": {},
   "source": [
    "---"
   ]
  },
  {
   "cell_type": "markdown",
   "id": "64bf887e",
   "metadata": {},
   "source": [
    "Criando uma função pra acessar a página da prefeitura"
   ]
  },
  {
   "cell_type": "code",
   "execution_count": null,
   "id": "ec36ee63",
   "metadata": {},
   "outputs": [],
   "source": [
    "def Acesso(url):\n",
    "    \n",
    "    try:\n",
    "        req = Request(url, headers = headers) # Metodo Request pra fazer uma solicitação\n",
    "        response = urlopen(req)\n",
    "        return response.read()\n",
    "        \n",
    "    except:\n",
    "        pass"
   ]
  },
  {
   "cell_type": "markdown",
   "id": "d7cff460",
   "metadata": {},
   "source": [
    "---"
   ]
  },
  {
   "cell_type": "markdown",
   "id": "cf503241",
   "metadata": {},
   "source": [
    "Criando uma função para capturar a página que acessamos e tranforma-las em padrão html"
   ]
  },
  {
   "cell_type": "code",
   "execution_count": null,
   "id": "cd09f83a",
   "metadata": {},
   "outputs": [],
   "source": [
    "def captura_html_pagina(url):\n",
    "    \n",
    "    html = Acesso(url) # Usando a função pra pegarmos o html na função Acesso\n",
    "    soup = bs4.BeautifulSoup(html, 'html.parser') # Modelamos o html em modelo html, pois o response deixa tudo bagunçado\n",
    "    return soup # retornamos a variavel modelo de HTML"
   ]
  },
  {
   "cell_type": "markdown",
   "id": "7f0ae042",
   "metadata": {},
   "source": [
    "---"
   ]
  },
  {
   "cell_type": "markdown",
   "id": "5aa64b29",
   "metadata": {},
   "source": [
    "Identifiquei que no código fonte do Site, a parte que queremos pegar só existe ela, ou seja, a proposição, o ano, o texto, o autor, estão dentro de uma classe única, o que facilitou o meu trabalho.\n",
    "\n",
    "Então vamos pegar o cabecalho da pagina, ou seja, vamos buscar apenas as informações que queremos tirar do site"
   ]
  },
  {
   "cell_type": "code",
   "execution_count": null,
   "id": "4252c6c0",
   "metadata": {},
   "outputs": [],
   "source": [
    "def Cabecalho(html):\n",
    "    dt = html.find_all('dt') # Procurando dentro do HTML a String 'dt' que é onde fica os Títulos do que buscamos\n",
    "    dd = html.find_all('dd') # Procurando dentro do HTML a String 'dd' que é onde fica os valores dos títulos do que buscamos\n",
    "    \n",
    "    dic = {} # criando um dicionário que neles iremos inserir os dados buscados acima\n",
    "    \n",
    "    for i in range(len(dt)): # criando um for pra que ele comece no 0 e pare no máximo de Títulos que tivermos\n",
    "        x = dt[i].get_text() # atribuindo a variavel x o elemento posição i só que apenas o texto\n",
    "        y = dd[i].get_text() # atribuindo a variavel y o elemento posição i só que apenas o texto\n",
    "        dic[x] = y # adicionando as variavéis que criamos acima no dicionario criado fora do for\n",
    "    \n",
    "    return dic # retornando o dicionário"
   ]
  },
  {
   "cell_type": "markdown",
   "id": "8d533072",
   "metadata": {},
   "source": [
    "---"
   ]
  },
  {
   "cell_type": "markdown",
   "id": "efd981a9",
   "metadata": {},
   "source": [
    "Já capturamos a pagina selecionamos o cabeçalho com as informações que queremos, vamos agora captar o conteudo"
   ]
  },
  {
   "cell_type": "code",
   "execution_count": null,
   "id": "a7ea1723",
   "metadata": {},
   "outputs": [],
   "source": [
    "def Conteudo(proposicao, ano):\n",
    "    # criamos uma variavel chamada url que contém o site e na parte onde diz sobre a proposicao e ano, atribuimos as variaveis\n",
    "    url = 'https://www.legislador.com.br//LegisladorWEB.ASP?WCI=ProposicaoTexto&ID=3&TPProposicao=1&nrProposicao='+str(proposicao)+'&aaProposicao='+str(ano)\n",
    "    html = captura_html_pagina(url) # chamamos a função para pegar o url acima e já captar o site no formato HTML\n",
    "    dic = Cabecalho(html) # Retirarmos as informações de cabeçalho que queremos\n",
    "    dic['Proposição'] = proposicao # atribuimos as informações acima os números da proposição e ano que atribuimos na função\n",
    "    dic['Ano'] = ano \n",
    "    dic['Texto'] = html.p.get_text()\n",
    "    return dic # retornamos o dicionário"
   ]
  },
  {
   "cell_type": "markdown",
   "id": "a1c56895",
   "metadata": {},
   "source": [
    "---"
   ]
  },
  {
   "cell_type": "markdown",
   "id": "655b9aaf",
   "metadata": {},
   "source": [
    "Irei fazer o teste com a 1º proposição do ano de 2023"
   ]
  },
  {
   "cell_type": "code",
   "execution_count": null,
   "id": "73cdc35a",
   "metadata": {},
   "outputs": [],
   "source": [
    "# criei uma lista vazia que será adicionada a proposição de acordo com a função Conteudo\n",
    "lista = [] \n",
    "\n",
    "lista.append(Conteudo(1, 2023))\n",
    "\n",
    "# atribuir a lista a um Data Frame chamado teste e mostrei na tela o resultdo\n",
    "teste = pd.DataFrame(lista) \n",
    "teste"
   ]
  },
  {
   "cell_type": "markdown",
   "id": "50ae76c2",
   "metadata": {},
   "source": [
    "Percebemos que conseguimos atribuir a 1º proposição do ano de 2023 ao DataFrame e já visualizamos de uma forma mais fácil de se entender.\n",
    "\n",
    "Então agora vamos..."
   ]
  },
  {
   "cell_type": "markdown",
   "id": "7d0af9af",
   "metadata": {},
   "source": [
    "---"
   ]
  },
  {
   "cell_type": "markdown",
   "id": "c3a8a1a5",
   "metadata": {},
   "source": [
    "# Conectar os dados ao SQL"
   ]
  },
  {
   "cell_type": "markdown",
   "id": "cf44a281",
   "metadata": {},
   "source": [
    "A ponto de facilitar mais o código irei criar funções separadas também"
   ]
  },
  {
   "cell_type": "markdown",
   "id": "655a2235",
   "metadata": {},
   "source": [
    "A primeira função vai ser de (Select) que é apenas para fazer uma consulta no banco de dados dentro do SQL através do Python\n"
   ]
  },
  {
   "cell_type": "code",
   "execution_count": null,
   "id": "1247bb9e",
   "metadata": {},
   "outputs": [],
   "source": [
    "def SQLSelect(query):\n",
    "    \n",
    "    conn = pyodbc.connect('Trusted_Connection=yes',\n",
    "                         driver = '{ODBC Driver 17 for SQL Server}',\n",
    "                         server = 'localhost',\n",
    "                         database = 'Indaia')\n",
    "    \n",
    "    out = pd.read_sql_query(query, conn)\n",
    "    \n",
    "    return out"
   ]
  },
  {
   "cell_type": "markdown",
   "id": "519d7162",
   "metadata": {},
   "source": [
    "---"
   ]
  },
  {
   "cell_type": "markdown",
   "id": "b5e5f4d2",
   "metadata": {},
   "source": [
    "A segunda função vai ser de Truncate, ou seja apagar todos os dados existentes dentro da tabela, caso precisamaremos\n"
   ]
  },
  {
   "cell_type": "code",
   "execution_count": null,
   "id": "9d254e4a",
   "metadata": {},
   "outputs": [],
   "source": [
    "def Truncate(NomeDaTabela):\n",
    "    \n",
    "    conn = pyodbc.connect('Trusted_Connection=yes',\n",
    "                         driver = '{ODBC Driver 17 for SQL Server}',\n",
    "                         server = 'localhost',\n",
    "                         database = 'Indaia')\n",
    "    \n",
    "    cursor = conn.cursor()\n",
    "    \n",
    "    cursor.execute(f'''\n",
    "    \n",
    "            TRUNCATE TABLE {NomeDaTabela}\n",
    "            \n",
    "            ''')\n",
    "    \n",
    "    conn.commit()\n",
    "    cursor.close()"
   ]
  },
  {
   "cell_type": "markdown",
   "id": "2a284943",
   "metadata": {},
   "source": [
    "---"
   ]
  },
  {
   "cell_type": "markdown",
   "id": "640c5ba6",
   "metadata": {},
   "source": [
    "A terceira função desta etapa é a de inserir elementos no banco de dados\n"
   ]
  },
  {
   "cell_type": "code",
   "execution_count": null,
   "id": "5c7e2591",
   "metadata": {},
   "outputs": [],
   "source": [
    "def SQLInsert(TabelaProposicoes):\n",
    "    \n",
    "    base = pd.DataFrame(columns = ['Reuniao','Deliberacao','Situacao','Assunto','Autor','Proposicao','Ano','Texto'])\n",
    "    TabelaProposicoes = base.append(TabelaProposicoes).fillna('')\n",
    "    \n",
    "    \n",
    "    conn = pyodbc.connect('Trusted_Connection=yes', \n",
    "                          driver = '{ODBC Driver 17 for SQL Server}',\n",
    "                          server = 'localhost', \n",
    "                          database = 'Indaia')\n",
    "    \n",
    "    cursor = conn.cursor()\n",
    "    \n",
    "    for index, row in TabelaProposicoes.iterrows():\n",
    "        cursor.execute('''\n",
    "             INSERT INTO Proposicoes (\n",
    "                DataReuniao,\n",
    "                DataDeliberacao,\n",
    "                Situacao,\n",
    "                Assunto,\n",
    "                Autor,\n",
    "                Proposicao,\n",
    "                Ano,\n",
    "                Texto\n",
    "            ) \n",
    "            values(?,?,?,?,?,?,?,?)''', \n",
    "\n",
    "            row['Reunião'], \n",
    "            row['Deliberação'], \n",
    "            row['Situação'], \n",
    "            row['Assunto'], \n",
    "            row['Autor'], \n",
    "            row['Proposição'], \n",
    "            row['Ano'], \n",
    "            row['Texto']\n",
    "            )\n",
    "    cursor.commit()\n",
    "    cursor.close() "
   ]
  },
  {
   "cell_type": "markdown",
   "id": "d4b45047",
   "metadata": {},
   "source": [
    "Essa função é pra inserirmos sempre a próxima proposição e caso caia no resultado em que o começo seja Nulo, a primeira proposição vai ser 1"
   ]
  },
  {
   "cell_type": "code",
   "execution_count": null,
   "id": "8a5c7ea8",
   "metadata": {},
   "outputs": [],
   "source": [
    "def InsereProximaProposicao(ano):\n",
    "\n",
    "    # Busca última proposição cadastrada\n",
    "    dados_ano = SQLSelect(f'select Proposicao = max(Proposicao) from Proposicoes where Ano = {ano}')\n",
    "    ultima_proposicao = dados_ano['Proposicao'].loc[0]\n",
    "\n",
    "    # Verifica se foi identificado lançamento naquele ano\n",
    "    if ultima_proposicao == None:\n",
    "        proxima_proposicao = 1\n",
    "    else:\n",
    "        proxima_proposicao = int(ultima_proposicao) + 1 \n",
    "\n",
    "    # Captura e Insere dados na tabela\n",
    "    dados = Conteudo(proxima_proposicao,ano)\n",
    "    tabela = pd.DataFrame([dados])\n",
    "    SQLInsert(tabela)"
   ]
  },
  {
   "cell_type": "markdown",
   "id": "39114b6a",
   "metadata": {},
   "source": [
    "---"
   ]
  },
  {
   "cell_type": "markdown",
   "id": "50ed88a0",
   "metadata": {},
   "source": [
    "Nessa aqui estamos já fazendo um loop pra adicionar todas as proposições de um ano"
   ]
  },
  {
   "cell_type": "code",
   "execution_count": null,
   "id": "d5262b90",
   "metadata": {},
   "outputs": [],
   "source": [
    "def BuscaGravaDadosAno(ano, quantidade = 10, erros_admissiveis = 2, segundos_espera = 0):\n",
    "\n",
    "    # erros\n",
    "    erros = 0\n",
    "\n",
    "    # variaveis para loop\n",
    "    i = 1\n",
    "    lista = []\n",
    "\n",
    "    while erros <= erros_admissiveis:\n",
    "\n",
    "        try:\n",
    "            InsereProximaProposicao(ano)\n",
    "        except:\n",
    "            erros += 1\n",
    "            pass\n",
    "\n",
    "        time.sleep(segundos_espera)\n",
    "\n",
    "        # carregamento incremental das variáveis\n",
    "        i +=1"
   ]
  },
  {
   "cell_type": "markdown",
   "id": "e32bb6ae",
   "metadata": {},
   "source": [
    "---"
   ]
  },
  {
   "attachments": {},
   "cell_type": "markdown",
   "id": "38ff5f0c",
   "metadata": {},
   "source": [
    "Agora iremos criar 2 loops do ano inicial até o ano final"
   ]
  },
  {
   "cell_type": "code",
   "execution_count": null,
   "id": "8b5e233a",
   "metadata": {},
   "outputs": [],
   "source": [
    "warnings.filterwarnings(\"ignore\")\n",
    "for i in range(1996, 2000):\n",
    "    try:\n",
    "        # Chamada da função\n",
    "        BuscaGravaDadosAno(i)\n",
    "    except Exception as e:\n",
    "        print(f\"Erro ao executar a função BuscaGravaDadosAno({i}): {e}\")\n",
    "    else:\n",
    "        # Mensagem impressa somente após a conclusão da função\n",
    "        print(f\"Concluída a execução do ano({i})\")\n",
    "        # Impressão do próximo ano\n",
    "        print(f\"Próximo ano: {i + 1}\")\n"
   ]
  },
  {
   "cell_type": "code",
   "execution_count": null,
   "id": "7681b0e8",
   "metadata": {},
   "outputs": [],
   "source": [
    "warnings.filterwarnings(\"ignore\")\n",
    "for i in range(2000, 2023):\n",
    "    try:\n",
    "        # Chamada da função\n",
    "        BuscaGravaDadosAno(i)\n",
    "    except Exception as e:\n",
    "        print(f\"Erro ao executar a função BuscaGravaDadosAno({i}): {e}\")\n",
    "    else:\n",
    "        # Mensagem impressa somente após a conclusão da função\n",
    "        print(f\"Concluída a execução do ano({i})\")\n",
    "        # Impressão do próximo ano\n",
    "        print(f\"Próximo ano: {i + 1}\")\n"
   ]
  },
  {
   "attachments": {},
   "cell_type": "markdown",
   "id": "326c9fea",
   "metadata": {},
   "source": [
    "Após todos esses passos iremos abrir no PowerBI e importar esses dados do SQLSERVER que inserimos e vamos fazer a nossa análise."
   ]
  }
 ],
 "metadata": {
  "kernelspec": {
   "display_name": "Python 3 (ipykernel)",
   "language": "python",
   "name": "python3"
  },
  "language_info": {
   "codemirror_mode": {
    "name": "ipython",
    "version": 3
   },
   "file_extension": ".py",
   "mimetype": "text/x-python",
   "name": "python",
   "nbconvert_exporter": "python",
   "pygments_lexer": "ipython3",
   "version": "3.9.12"
  }
 },
 "nbformat": 4,
 "nbformat_minor": 5
}
